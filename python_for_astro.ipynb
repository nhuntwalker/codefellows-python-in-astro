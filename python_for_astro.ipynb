{
 "cells": [
  {
   "cell_type": "markdown",
   "metadata": {
    "slideshow": {
     "slide_type": "slide"
    }
   },
   "source": [
    "# Python Applied: Programming for the Stars\n",
    "\n",
    "**Nicholas Hunt-Walker**\n",
    "\n",
    "**Code Fellows - Code 401: Python**\n",
    "\n",
    "**March 18, 2016**"
   ]
  },
  {
   "cell_type": "markdown",
   "metadata": {
    "slideshow": {
     "slide_type": "slide"
    }
   },
   "source": [
    "# Outline\n",
    "### Less App Dev, More Analysis\n",
    "### A Brief Survey of Astrophysics\n",
    "### Time Series Analysis\n",
    "### Use case: Catching Stellar Flares\n",
    "### Stellar Classification\n",
    "### Use case: Finding RR Lyrae\n",
    "### Mapping the Sky\n",
    "### Use case: Thousands of Galaxies, Billions of Years\n",
    "### Summary"
   ]
  },
  {
   "cell_type": "markdown",
   "metadata": {
    "slideshow": {
     "slide_type": "slide"
    }
   },
   "source": [
    "# Less App Dev, More Analysis"
   ]
  },
  {
   "cell_type": "markdown",
   "metadata": {
    "slideshow": {
     "slide_type": "subslide"
    }
   },
   "source": [
    "Code rarely (if ever) client-facing. At most, may share with collaborators"
   ]
  },
  {
   "cell_type": "markdown",
   "metadata": {
    "slideshow": {
     "slide_type": "subslide"
    }
   },
   "source": [
    "Custom scripts, sometimes legacy code"
   ]
  },
  {
   "cell_type": "markdown",
   "metadata": {
    "slideshow": {
     "slide_type": "subslide"
    }
   },
   "source": [
    "Math/Stats-heavy; get from point A (read data) to point B (analysis results)"
   ]
  },
  {
   "cell_type": "markdown",
   "metadata": {
    "slideshow": {
     "slide_type": "subslide"
    }
   },
   "source": [
    "### Sometimes code becomes library. Useful:\n",
    "<img src='https://camo.githubusercontent.com/791c5b926e46cd3ce6b21e6e954e252095dc81c2/687474703a2f2f617374726f70792e72656164746865646f63732e6f72672f656e2f737461626c652f5f696d616765732f617374726f70795f62616e6e65722e737667' width=\"400\"/>\n",
    "\n",
    "<img src='./astroML_logo.gif' width=\"300\"/>"
   ]
  },
  {
   "cell_type": "markdown",
   "metadata": {
    "slideshow": {
     "slide_type": "subslide"
    }
   },
   "source": [
    "### Other often-used libraries:\n",
    "| <img src='numpy_logo.png' alt='numpy' width='300'/> | <img src='scipy_logo.png' alt='scipy' width='300'/> |\n",
    "| - | - |\n",
    "| <img src='scikit-learn-logo.png' alt='sklearn' width='300'/> | <img src='pandas_logo.png' alt='pandas' width='300'/> |\n",
    "| <img src='matplotlib_logo.png' alt='matplotlib' width='300'/> | <img src='emcee_logo.png' alt='emcee' width='300'/> |"
   ]
  },
  {
   "cell_type": "markdown",
   "metadata": {
    "slideshow": {
     "slide_type": "slide"
    }
   },
   "source": [
    "# A Brief, Largely Incomplete Survey of Astrophysics\n",
    "<img src='hud2014_1280.jpg' width='600' alt='hubble_udf'/>\n",
    "<em style='float: right'>The Hubble Ultra-Deep Field, Hubble Space Telescope 2014</em>"
   ]
  },
  {
   "cell_type": "markdown",
   "metadata": {
    "slideshow": {
     "slide_type": "subslide"
    }
   },
   "source": [
    "# Planets\n",
    "<img src='the_planets.jpg' alt='the planets' width='800' />\n",
    "- Tend to orbit stars, but not always\n",
    "- Collections of mass large enough to be rounded by their own gravity\n",
    "- Range drastically in size; 4,800 km (Mercury) to 320,000 km (CT Chamaeleontis b); United States is 4,300 km across\n",
    "- Smallest are rocky (Mercury, Venus, Mars), largest mostly gas (Jupiter, Saturn Uranus)\n",
    "- **What's studied?**\n",
    "    - **Finding new planets!**\n",
    "    - **Masses and sizes of new planets!**\n",
    "    - **Atmospheres of...new planets!**"
   ]
  },
  {
   "cell_type": "markdown",
   "metadata": {
    "slideshow": {
     "slide_type": "subslide"
    }
   },
   "source": [
    "# Stars\n",
    "<img src='pleiades_banner.jpg' width='800' alt='the pleiades'/>\n",
    "<em style='float: right'>The Pleiades Star Cluster</em>\n",
    "- Ridiculously huge balls of hydrogen plasma\n",
    "- Ridiculously hot sources of light\n",
    "- Ridiculously long-lived, even for shortest-lived ones\n",
    "- Literally hundreds of billions in our own Milky Way galaxy\n",
    "- **What's studied?**\n",
    "    - **Variability in brightness with time**\n",
    "    - **Internal physics of stars**\n",
    "    - **Distribution throughout the sky**\n",
    "    - **Chemical enrichment throughout bodies**"
   ]
  },
  {
   "cell_type": "markdown",
   "metadata": {
    "slideshow": {
     "slide_type": "subslide"
    }
   },
   "source": [
    "# Galaxies\n",
    "<img src='andromeda_banner.jpg' alt='The Andromeda Galaxy' width='700' style='margin: auto;'/>\n",
    "<em style='float: right'>The Andromeda Galaxy</em>\n",
    "- Gravity-bound collections of hundreds of billions of stars\n",
    "- Also at least as many planets, plus black holes, white dwarfs, neutron stars, & occasional supernovae\n",
    "- Tons of gas and dust between stars allowing for new stars\n",
    "- Cannibalism!\n",
    "- Come in spiral and elliptical varieties\n",
    "- **What's studied?**\n",
    "    - **Distribution on sky**\n",
    "    - **Structure & shape**\n",
    "    - **Ages and content**\n",
    "    - **Evolution with time**"
   ]
  },
  {
   "cell_type": "markdown",
   "metadata": {
    "slideshow": {
     "slide_type": "slide"
    }
   },
   "source": [
    "# Time Series Analysis"
   ]
  },
  {
   "cell_type": "markdown",
   "metadata": {
    "slideshow": {
     "slide_type": "subslide"
    }
   },
   "source": [
    "<img src='time_series_rrlyr.jpg' alt='time series head' width='800'/>\n",
    "- Investigate variation in some characteristic with time\n",
    "- Data from observations or simulations; always testing physics\n",
    "- **Used for**: \n",
    "    - **finding new planets**\n",
    "    - **using stars as distance indicators**\n",
    "    - **classifying stars**\n",
    "    - **predicting galaxy merger histories**"
   ]
  },
  {
   "cell_type": "markdown",
   "metadata": {
    "slideshow": {
     "slide_type": "slide"
    }
   },
   "source": [
    "# Use case: Catching Stellar Flares\n",
    "<img src='stellar_flare.gif' width='500' alt='stellar flare' style='margin:auto;'/>"
   ]
  },
  {
   "cell_type": "code",
   "execution_count": 1,
   "metadata": {
    "collapsed": false,
    "slideshow": {
     "slide_type": "subslide"
    }
   },
   "outputs": [
    {
     "name": "stdout",
     "output_type": "stream",
     "text": [
      "This data consists of 8592 rows and 2 columns\n"
     ]
    }
   ],
   "source": [
    "import numpy as np\n",
    "import matplotlib.pyplot as plt\n",
    "%matplotlib inline\n",
    "\n",
    "the_file = 'lc.ADLeo.dat' \n",
    "# observations every 60 seconds\n",
    "the_data = np.loadtxt(the_file).T\n",
    "print \"This data consists of %i rows and %i columns\" % (len(the_data[0]), len(the_data.T[0]))"
   ]
  },
  {
   "cell_type": "code",
   "execution_count": 2,
   "metadata": {
    "collapsed": false,
    "slideshow": {
     "slide_type": "subslide"
    }
   },
   "outputs": [],
   "source": [
    "# Visualize the data\n",
    "fig = plt.figure(figsize=(16, 8))\n",
    "fig.subplots_adjust(wspace=0, hspace=0, top=0.95, bottom=0.05, left=0.05, right=0.95)\n",
    "\n",
    "plt.subplot(211)\n",
    "plt.plot(the_data[0], the_data[1], color='k')\n",
    "plt.xlim(3716.75, 3726.25)\n",
    "plt.xlabel('Time (days)')\n",
    "plt.ylabel('Brightness')\n",
    "plt.minorticks_on()\n",
    "\n",
    "plt.subplot(212)\n",
    "plt.scatter(the_data[0], the_data[1], color='k', s=1)\n",
    "plt.xlim(3716.75, 3726.25)\n",
    "plt.ylim(22, 23.5)\n",
    "plt.xlabel('Time (days)')\n",
    "plt.ylabel('Brightness')\n",
    "plt.minorticks_on()\n",
    "plt.savefig(\"lightcurve_1.png\")\n",
    "# plt.show()\n",
    "plt.close()"
   ]
  },
  {
   "cell_type": "markdown",
   "metadata": {
    "slideshow": {
     "slide_type": "subslide"
    }
   },
   "source": [
    "<img src=\"lightcurve_1.png\" width=\"800\"/>"
   ]
  },
  {
   "cell_type": "markdown",
   "metadata": {
    "slideshow": {
     "slide_type": "subslide"
    }
   },
   "source": [
    "### My data appears to not only be periodic, but to be slightly decreasing in brightness over time. If I want to recover any flares from this object, I have to model that behavior and subtract it out. "
   ]
  },
  {
   "cell_type": "code",
   "execution_count": 3,
   "metadata": {
    "collapsed": false
   },
   "outputs": [],
   "source": [
    "from scipy.optimize import leastsq"
   ]
  },
  {
   "cell_type": "code",
   "execution_count": 4,
   "metadata": {
    "collapsed": false
   },
   "outputs": [],
   "source": [
    "# when fitting a function to data you need to start with a first guess, \n",
    "# then optimize that function from there\n",
    "guesses = {\"amplitude\": np.std(the_data[1]),\n",
    "            \"freq\": 2*np.pi/3.0, \n",
    "            \"phase\": 0.,\n",
    "            \"intercept\": np.mean(the_data[1]),\n",
    "            \"slope\": 1.0}\n",
    "\n",
    "# use better-named variables and shift the time to start at zero\n",
    "time = the_data[0] - the_data[0].min()\n",
    "brightness = the_data[1]\n",
    "\n",
    "# y = A * sin(f*t + phase) + bias\n",
    "optimize_func = lambda params: params[0] * np.sin(params[1] * time + params[2]) \\\n",
    "                                + (params[3] * time + params[4]) - brightness\n",
    "    \n",
    "results = leastsq(optimize_func, [guesses[\"amplitude\"], guesses[\"freq\"], \n",
    "                                  guesses[\"phase\"], guesses[\"slope\"], \n",
    "                                  guesses[\"intercept\"]]) \n",
    "\n",
    "amplitude, freq, phase, slope, intercept = results[0]"
   ]
  },
  {
   "cell_type": "code",
   "execution_count": 5,
   "metadata": {
    "collapsed": true,
    "slideshow": {
     "slide_type": "subslide"
    }
   },
   "outputs": [],
   "source": [
    "def variability_model(amp, freq, phase, slope, intercpt, time):\n",
    "    \"\"\"\n",
    "    A function modeling the variablility of this star, with a sinusoid \n",
    "    for the star spot and a linear bias for any long-term decline or increase\n",
    "    \"\"\"\n",
    "    return amp*np.sin(freq * time + phase) + (slope * time + intercpt)"
   ]
  },
  {
   "cell_type": "code",
   "execution_count": 6,
   "metadata": {
    "collapsed": false,
    "slideshow": {
     "slide_type": "subslide"
    }
   },
   "outputs": [],
   "source": [
    "# always visualize your results. Pure numbers can only say so much\n",
    "\n",
    "fig = plt.figure(figsize=(16, 8))\n",
    "fig.subplots_adjust(wspace=0, hspace=0, top=0.95, bottom=0.05, left=0.05, right=0.95)\n",
    "\n",
    "plt.subplot(211)\n",
    "plt.scatter(time, brightness, color='k', s=1)\n",
    "plt.plot(time, variability_model(amplitude, freq, phase, slope, intercept, \n",
    "                                 time), linewidth=2, color=\"red\")\n",
    "\n",
    "plt.xlim(-0.5, 9.5)\n",
    "plt.ylim(22, 23.5)\n",
    "plt.ylabel('Brightness')\n",
    "plt.minorticks_on()\n",
    "\n",
    "plt.subplot(212)\n",
    "the_model = variability_model(amplitude, freq, phase, slope, intercept, time)\n",
    "\n",
    "residual = brightness - the_model\n",
    "plt.scatter(time, residual, color='k', s=1)\n",
    "plt.plot([-1, 10], [np.std(residual), np.std(residual)],\n",
    "         linestyle=\"--\", c='b')\n",
    "\n",
    "plt.xlim(-0.5, 9.5)\n",
    "plt.ylim(-0.5, 1.5)\n",
    "plt.xlabel('Time (days)')\n",
    "plt.ylabel('Brightness')\n",
    "plt.minorticks_on()\n",
    "\n",
    "plt.savefig(\"lightcurve_2.png\")\n",
    "# plt.show()\n",
    "plt.close()"
   ]
  },
  {
   "cell_type": "markdown",
   "metadata": {
    "slideshow": {
     "slide_type": "subslide"
    }
   },
   "source": [
    "<img src='lightcurve_2.png' width=\"800\"/>"
   ]
  },
  {
   "cell_type": "code",
   "execution_count": 7,
   "metadata": {
    "collapsed": false,
    "slideshow": {
     "slide_type": "subslide"
    }
   },
   "outputs": [],
   "source": [
    "def crude_flare_finder(time_data, flux_data, time_window_days = 1.0):\n",
    "    \"\"\"\n",
    "    Returns indices of data where brightness is above 1 sigma \n",
    "    for that window of time\n",
    "    \"\"\"\n",
    "    time_steps = np.arange(time_data.min(), time_data.max() \\\n",
    "                           + time_window_days, time_window_days)\n",
    "    \n",
    "    flare_indices = np.zeros(len(time_data), dtype=bool)\n",
    "    \n",
    "    for ii in range(len(time_steps)-1):\n",
    "        this_window = (time_data > time_steps[ii]) & \\\n",
    "                        (time_data < time_steps[ii + 1])\n",
    "            \n",
    "        stdev = np.std(flux_data[this_window])\n",
    "        flare_indices[this_window] = flux_data[this_window] > stdev\n",
    "        \n",
    "    return flare_indices"
   ]
  },
  {
   "cell_type": "code",
   "execution_count": 8,
   "metadata": {
    "collapsed": false,
    "slideshow": {
     "slide_type": "subslide"
    }
   },
   "outputs": [],
   "source": [
    "# and here are the resulting flares\n",
    "fig = plt.figure(figsize=(16,4))\n",
    "fig.subplots_adjust(wspace=0, hspace=0, top=0.95, bottom=0.05, left=0.05, right=0.95)\n",
    "\n",
    "crude_flares = crude_flare_finder(time, residual)\n",
    "\n",
    "for ii in np.arange(0, 10, 2.0):\n",
    "    plt.fill_between([ii, ii+1], [-0.5, -0.5], [1.5, 1.5], color=\"k\", alpha=0.1)\n",
    "    \n",
    "plt.scatter(time, residual, color='k', s=5, edgecolor=\"None\")\n",
    "plt.scatter(time[crude_flares], residual[crude_flares], color='r', s=5, edgecolor=\"None\")\n",
    "plt.xlim(-0.5, 9.5)\n",
    "plt.ylim(-0.5, 1.5)\n",
    "plt.xlabel('Time (days)')\n",
    "plt.ylabel('Brightness')\n",
    "plt.minorticks_on()\n",
    "\n",
    "plt.savefig(\"lightcurve_withflares.png\")\n",
    "# plt.show()\n",
    "plt.close()"
   ]
  },
  {
   "cell_type": "markdown",
   "metadata": {
    "slideshow": {
     "slide_type": "subslide"
    }
   },
   "source": [
    "<img src=\"lightcurve_withflares.png\" width=\"800\" />"
   ]
  },
  {
   "cell_type": "markdown",
   "metadata": {
    "slideshow": {
     "slide_type": "slide"
    }
   },
   "source": [
    "# Object Classification"
   ]
  },
  {
   "cell_type": "markdown",
   "metadata": {
    "slideshow": {
     "slide_type": "subslide"
    }
   },
   "source": [
    "<img src='hr_diagram.jpg' width='600' alt='H-R Diagram' />"
   ]
  },
  {
   "cell_type": "markdown",
   "metadata": {
    "slideshow": {
     "slide_type": "subslide"
    }
   },
   "source": [
    "### Different object classes have different physcs and different meanings\n",
    "\n",
    "- Stellar classes = different phases of evolution\n",
    "- Stellar classes also = different temperatures\n",
    "- Galaxy classes = different stars in the galaxy + different contents\n",
    "- **Classification lets us focus attention**\n",
    "    - Sky filled with hundreds of billions of objects\n",
    "    - Computing power/man hours limited\n",
    "    - Classify then delegate"
   ]
  },
  {
   "cell_type": "markdown",
   "metadata": {
    "slideshow": {
     "slide_type": "slide"
    }
   },
   "source": [
    "# Use case: Classifying RR Lyrae\n",
    "<img src=\"cepheid.gif\" width=\"600\" alt=\"Pulsating Star\" />"
   ]
  },
  {
   "cell_type": "code",
   "execution_count": 9,
   "metadata": {
    "collapsed": true,
    "slideshow": {
     "slide_type": "subslide"
    }
   },
   "outputs": [],
   "source": [
    "import numpy as np\n",
    "from matplotlib import pyplot as plt\n",
    "%matplotlib inline\n",
    "\n",
    "from astroML.classification import GMMBayes\n",
    "from astroML.datasets import fetch_rrlyrae_combined\n",
    "from astroML.utils import split_samples\n",
    "from astroML.utils import completeness_contamination"
   ]
  },
  {
   "cell_type": "code",
   "execution_count": 10,
   "metadata": {
    "collapsed": false,
    "slideshow": {
     "slide_type": "subslide"
    }
   },
   "outputs": [
    {
     "name": "stdout",
     "output_type": "stream",
     "text": [
      "This set has 93141 objects, with 4 dimensions\n"
     ]
    }
   ],
   "source": [
    "# get data and split into training & testing sets\n",
    "X, y = fetch_rrlyrae_combined()\n",
    "X = X[:, [1, 0, 2, 3]]  # rearrange columns for better 1-color results\n",
    "\n",
    "# GMM-bayes takes several minutes to run, and is order[N^2]\n",
    "#  truncating the dataset can be useful for experimentation.\n",
    "(X_train, X_test), (y_train, y_test) = split_samples(X, y, [0.75, 0.25],\n",
    "                                                     random_state=0)\n",
    "N_tot = len(y)\n",
    "N_st = np.sum(y == 0)\n",
    "N_rr = N_tot - N_st\n",
    "N_train = len(y_train)\n",
    "N_test = len(y_test)\n",
    "N_plot = 5000 + N_rr\n",
    "\n",
    "print \"This set has %i objects, with %i dimensions\" % X.shape"
   ]
  },
  {
   "cell_type": "code",
   "execution_count": 11,
   "metadata": {
    "collapsed": false,
    "slideshow": {
     "slide_type": "subslide"
    }
   },
   "outputs": [],
   "source": [
    "# perform classfication\n",
    "Ncolors = np.arange(1, X.shape[1] + 1)\n",
    "Ncomp = [1, 3]\n",
    "\n",
    "def compute_GMMbayes(Ncolors, Ncomp):\n",
    "    classifiers = []\n",
    "    predictions = []\n",
    "\n",
    "    for ncm in Ncomp:\n",
    "        classifiers.append([])\n",
    "        predictions.append([])\n",
    "        for nc in Ncolors:\n",
    "            clf = GMMBayes(ncm, min_covar=1E-5, covariance_type='full')\n",
    "            clf.fit(X_train[:, :nc], y_train)\n",
    "            y_pred = clf.predict(X_test[:, :nc])\n",
    "\n",
    "            classifiers[-1].append(clf)\n",
    "            predictions[-1].append(y_pred)\n",
    "\n",
    "    return classifiers, predictions\n",
    "\n",
    "classifiers, predictions = compute_GMMbayes(Ncolors, Ncomp)\n",
    "completeness, contamination = completeness_contamination(predictions, y_test)"
   ]
  },
  {
   "cell_type": "code",
   "execution_count": 12,
   "metadata": {
    "collapsed": true,
    "slideshow": {
     "slide_type": "subslide"
    }
   },
   "outputs": [],
   "source": [
    "# Compute the decision boundary\n",
    "clf = classifiers[1][1]\n",
    "xlim = (0.7, 1.35)\n",
    "ylim = (-0.15, 0.4)\n",
    "\n",
    "xgrid = np.linspace(xlim[0], xlim[1], 71)\n",
    "ygrid = np.linspace(ylim[0], ylim[1], 81)\n",
    "xx, yy = np.meshgrid(xgrid, ygrid)\n",
    "\n",
    "Z = clf.predict_proba(np.c_[yy.ravel(), xx.ravel()])\n",
    "Z = Z[:, 1].reshape(xx.shape)"
   ]
  },
  {
   "cell_type": "code",
   "execution_count": 13,
   "metadata": {
    "collapsed": false,
    "slideshow": {
     "slide_type": "subslide"
    }
   },
   "outputs": [],
   "source": [
    "# plot the results\n",
    "fig = plt.figure(figsize=(10, 5))\n",
    "fig.subplots_adjust(hspace=0.0, wspace=0.2)\n",
    "\n",
    "# left plot: data and decision boundary\n",
    "ax = fig.add_subplot(121)\n",
    "im = ax.scatter(X[-N_plot:, 1], X[-N_plot:, 0], c=y[-N_plot:],\n",
    "                s=4, lw=0, cmap=plt.cm.binary, zorder=2)\n",
    "im.set_clim(-0.5, 1)\n",
    "\n",
    "im = ax.imshow(Z, origin='lower', aspect='auto', cmap=plt.cm.binary, zorder=1,\n",
    "               extent=xlim + ylim)\n",
    "im.set_clim(0, 1.5)\n",
    "\n",
    "ax.contour(xx, yy, Z, [0.5], colors='k')\n",
    "ax.set_xlim(xlim)\n",
    "ax.set_ylim(ylim)\n",
    "ax.set_xlabel('attribute 1')\n",
    "ax.set_ylabel('attribute 2')\n",
    "\n",
    "# plot completeness vs Ncolors\n",
    "ax = fig.add_subplot(222)\n",
    "ax.plot(Ncolors, completeness[0], '^--k', ms=6, label='N=%i' % Ncomp[0])\n",
    "ax.plot(Ncolors, completeness[1], 'o-k', ms=6, label='N=%i' % Ncomp[1])\n",
    "\n",
    "ax.xaxis.set_major_locator(plt.MultipleLocator(1))\n",
    "ax.yaxis.set_major_locator(plt.MultipleLocator(0.2))\n",
    "ax.xaxis.set_major_formatter(plt.NullFormatter())\n",
    "\n",
    "ax.set_ylabel('completeness')\n",
    "ax.set_xlim(0.5, 4.5)\n",
    "ax.set_ylim(-0.1, 1.1)\n",
    "ax.grid(True)\n",
    "\n",
    "# plot contamination vs Ncolors\n",
    "ax = fig.add_subplot(224)\n",
    "ax.plot(Ncolors, contamination[0], '^--k', ms=6, label='N=%i' % Ncomp[0])\n",
    "ax.plot(Ncolors, contamination[1], 'o-k', ms=6, label='N=%i' % Ncomp[1])\n",
    "ax.legend(loc='lower right', bbox_to_anchor=(1.0, 0.78))\n",
    "\n",
    "ax.xaxis.set_major_locator(plt.MultipleLocator(1))\n",
    "ax.yaxis.set_major_locator(plt.MultipleLocator(0.2))\n",
    "ax.xaxis.set_major_formatter(plt.FormatStrFormatter('%i'))\n",
    "\n",
    "ax.set_xlabel('N attributes')\n",
    "ax.set_ylabel('contamination')\n",
    "ax.set_xlim(0.5, 4.5)\n",
    "ax.set_ylim(-0.1, 1.1)\n",
    "ax.grid(True)\n",
    "\n",
    "plt.savefig(\"classification_example.png\")\n",
    "# plt.show()\n",
    "plt.close()"
   ]
  },
  {
   "cell_type": "markdown",
   "metadata": {
    "slideshow": {
     "slide_type": "subslide"
    }
   },
   "source": [
    "<img src=\"classification_example.png\" width=\"800\"/>"
   ]
  },
  {
   "cell_type": "markdown",
   "metadata": {
    "slideshow": {
     "slide_type": "slide"
    }
   },
   "source": [
    "# Mapping the Sky\n",
    "<img src='skymap.jpg' width='1000'/>"
   ]
  },
  {
   "cell_type": "markdown",
   "metadata": {
    "slideshow": {
     "slide_type": "subslide"
    }
   },
   "source": [
    "## Astronomy is a Visual Science\n",
    "- Maps let us see the world in more views than what our eyes show\n",
    "- Maps of our stars show us the galaxy; where they are and their properties by position\n",
    "- Maps of galaxies show us the Universe\n",
    "- Maps of the Universe show us our origins\n",
    "- **Our code makes mapping the Universe in space and physics possible**"
   ]
  },
  {
   "cell_type": "markdown",
   "metadata": {
    "slideshow": {
     "slide_type": "slide"
    }
   },
   "source": [
    "# Use case: Thousands of Galaxies, Billions of Years"
   ]
  },
  {
   "cell_type": "code",
   "execution_count": 14,
   "metadata": {
    "collapsed": false,
    "slideshow": {
     "slide_type": "subslide"
    }
   },
   "outputs": [
    {
     "data": {
      "text/plain": [
       "'en_US'"
      ]
     },
     "execution_count": 14,
     "metadata": {},
     "output_type": "execute_result"
    }
   ],
   "source": [
    "import pandas as pd\n",
    "import matplotlib.pyplot as plt\n",
    "\n",
    "from astropy.cosmology import Planck13 as cosmo\n",
    "from astropy.coordinates import SkyCoord, Distance\n",
    "from astropy import units as u\n",
    "\n",
    "from astroML.stats import binned_statistic_2d\n",
    "\n",
    "import locale\n",
    "locale.setlocale(locale.LC_ALL, 'en_US')"
   ]
  },
  {
   "cell_type": "code",
   "execution_count": 15,
   "metadata": {
    "collapsed": false,
    "slideshow": {
     "slide_type": "-"
    }
   },
   "outputs": [
    {
     "name": "stdout",
     "output_type": "stream",
     "text": [
      "This file has 291578 rows and 47 columns\n"
     ]
    }
   ],
   "source": [
    "galaxies = pd.read_csv(\"/Users/Nick/Documents/AGBstuff/new_work/contaminants/vagc_allwise_allmags.dat\", sep=\"\\t\")\n",
    "galaxies = galaxies[galaxies.CLASS != \"STAR\"]\n",
    "print \"This file has %i rows and %i columns\" % galaxies.shape"
   ]
  },
  {
   "cell_type": "code",
   "execution_count": 16,
   "metadata": {
    "collapsed": false,
    "slideshow": {
     "slide_type": "subslide"
    }
   },
   "outputs": [],
   "source": [
    "# want to see the distribution of galaxies but have to transform\n",
    "# coordinates\n",
    "coords = SkyCoord(ra = galaxies[\"ra\"] * u.degree, \n",
    "                  dec = galaxies[\"decl\"] * u.degree, \n",
    "                  distance = cosmo.luminosity_distance(z=galaxies[\"Z\"]) * u.Mpc)\n",
    "\n",
    "galaxies[\"x\"] = coords.cartesian.x\n",
    "galaxies[\"y\"] = coords.cartesian.y\n",
    "galaxies[\"z\"] = coords.cartesian.z\n",
    "\n",
    "qso = galaxies.CLASS == \"QSO\"\n",
    "agn = (galaxies.SUBCLASS == \"AGN\") | (galaxies.SUBCLASS == \" BROADLINE\")\n",
    "sfgal = (galaxies.SUBCLASS == \"STARFORMING\") | (galaxies.SUBCLASS == \" BROADLINE\")\n",
    "sbgal = (galaxies.SUBCLASS == \"STARBURST\") | (galaxies.SUBCLASS == \" BROADLINE\")"
   ]
  },
  {
   "cell_type": "code",
   "execution_count": 17,
   "metadata": {
    "collapsed": false,
    "slideshow": {
     "slide_type": "subslide"
    }
   },
   "outputs": [],
   "source": [
    "#coordinates transformed very simply! Now visualize!\n",
    "fig = plt.figure(figsize=(14, 6))\n",
    "fig.subplots_adjust(wspace=0, hspace=0, top=0.95, bottom=0.05, left=0.05, right=0.95)\n",
    "\n",
    "xbounds = [-600, 0]\n",
    "ybounds = [-300, 300]\n",
    "ax = plt.subplot2grid((2, 4),(0, 0), colspan=2, rowspan=2)\n",
    "ax.scatter(galaxies[\"x\"], galaxies[\"y\"], s=1, edgecolor=\"None\", c='k', alpha=0.5)\n",
    "ax.text(0.95, 0.95, \"All Galaxies\", horizontalalignment=\"right\",\n",
    "       verticalalignment=\"top\", transform=ax.transAxes)\n",
    "\n",
    "ax.set_xlabel(\"X (Mpc)\")\n",
    "ax.set_ylabel(\"Y (Mpc)\")\n",
    "ax.set_xlim(xbounds[0], xbounds[1])\n",
    "ax.set_ylim(ybounds[0], ybounds[1])\n",
    "ax.minorticks_on()\n",
    "\n",
    "size = 1\n",
    "ax1 = plt.subplot2grid((2, 4),(0, 2))\n",
    "ax1.scatter(galaxies[\"x\"][sfgal], galaxies[\"y\"][sfgal], s=size, edgecolor=\"None\", c='gray', alpha=0.5)\n",
    "ax1.text(0.95, 0.95, \"Starforming\", horizontalalignment=\"right\",\n",
    "       verticalalignment=\"top\", transform=ax1.transAxes)\n",
    "\n",
    "ax2 = plt.subplot2grid((2, 4),(0, 3))\n",
    "ax2.scatter(galaxies[\"x\"][qso], galaxies[\"y\"][qso], s=size, edgecolor=\"None\", c='b')\n",
    "ax2.text(0.95, 0.95, \"QSOs\", horizontalalignment=\"right\",\n",
    "       verticalalignment=\"top\", transform=ax2.transAxes)\n",
    "\n",
    "ax3 = plt.subplot2grid((2, 4),(1, 2))\n",
    "ax3.text(0.95, 0.95, \"Starburst\", horizontalalignment=\"right\",\n",
    "       verticalalignment=\"top\", transform=ax3.transAxes)\n",
    "ax3.scatter(galaxies[\"x\"][sbgal], galaxies[\"y\"][sbgal], s=size, edgecolor=\"None\", c='g', alpha=0.5)\n",
    "\n",
    "ax4 = plt.subplot2grid((2, 4),(1, 3))\n",
    "ax4.scatter(galaxies[\"x\"][agn], galaxies[\"y\"][agn], s=size, edgecolor=\"None\", c='r')\n",
    "ax4.text(0.95, 0.95, \"AGN\", horizontalalignment=\"right\",\n",
    "       verticalalignment=\"top\", transform=ax4.transAxes)\n",
    "\n",
    "for ax in [ax1, ax2, ax3, ax4]:\n",
    "    ax.set_xlim(xbounds[0], xbounds[1])\n",
    "    ax.set_xticklabels([])\n",
    "    ax.set_ylim(ybounds[0], ybounds[1])\n",
    "    ax.set_yticklabels([])\n",
    "    ax.minorticks_on()\n",
    "\n",
    "plt.savefig(\"galaxymap.png\")\n",
    "# plt.show()\n",
    "plt.close()"
   ]
  },
  {
   "cell_type": "markdown",
   "metadata": {
    "slideshow": {
     "slide_type": "subslide"
    }
   },
   "source": [
    "<img src=\"galaxymap.png\" />"
   ]
  },
  {
   "cell_type": "code",
   "execution_count": 18,
   "metadata": {
    "collapsed": false,
    "slideshow": {
     "slide_type": "subslide"
    }
   },
   "outputs": [],
   "source": [
    "# more than just classes, let's map color distributions\n",
    "fig = plt.figure(figsize=(14, 8))\n",
    "fig.subplots_adjust(wspace=0, hspace=0, top=0.95, bottom=0.05, left=0.05, right=0.95)\n",
    "\n",
    "w23bins = np.arange(1, 4.5, 0.5)\n",
    "xbounds = [-600, 0]\n",
    "ybounds = [-300, 300]\n",
    "boxprops = {\"facecolor\":'white', 'edgecolor':'None'}\n",
    "\n",
    "for ii in range(6):\n",
    "    ax = plt.subplot(2, 3, ii + 1)\n",
    "    cut = ((galaxies[\"w2\"] - galaxies[\"w3\"]) > w23bins[ii]) &\\\n",
    "            ((galaxies[\"w2\"] - galaxies[\"w3\"]) < w23bins[ii + 1])\n",
    "    ax.scatter(galaxies[\"x\"][cut], galaxies[\"y\"][cut], s=0.5, edgecolor=\"None\", c='k', alpha=0.9)\n",
    "    \n",
    "    ax.text(0.95, 0.95, \"%g > color > %g\" % (w23bins[ii], w23bins[ii+1]), horizontalalignment=\"right\",\n",
    "           verticalalignment=\"top\", transform=ax.transAxes,\n",
    "           bbox = boxprops)\n",
    "    ax.text(0.95, 0.85, \"%s galaxies\" % locale.format(\"%g\", sum(cut), grouping=True), horizontalalignment=\"right\",\n",
    "           verticalalignment=\"top\", transform=ax.transAxes,\n",
    "           bbox = boxprops)\n",
    "\n",
    "    ax.set_xlim(xbounds[0], xbounds[1])\n",
    "    ax.set_xticklabels([])\n",
    "    ax.set_ylim(ybounds[0], ybounds[1])\n",
    "    ax.set_yticklabels([])\n",
    "    ax.minorticks_on()\n",
    "\n",
    "plt.savefig(\"galaxymap_color.png\")\n",
    "# plt.show()\n",
    "plt.close()"
   ]
  },
  {
   "cell_type": "markdown",
   "metadata": {
    "slideshow": {
     "slide_type": "subslide"
    }
   },
   "source": [
    "<img src=\"galaxymap_color.png\" />"
   ]
  },
  {
   "cell_type": "markdown",
   "metadata": {
    "slideshow": {
     "slide_type": "slide"
    }
   },
   "source": [
    "# And so, so much more\n",
    "\n",
    "### Not just direct science!\n",
    "- Astronomers use Python to help aim telescopes\n",
    "- Example: The Large Synoptic Survey Telescope\n",
    "<img src='lsst.jpg' />\n",
    "\n",
    "### Not just observations!\n",
    "- Python backends on sites like:\n",
    "    - [SPACEPROB.ES](http://spaceprob.es/)\n",
    "    - [Open Exoplanet Catalog](http://www.openexoplanetcatalogue.com/systems/)"
   ]
  },
  {
   "cell_type": "markdown",
   "metadata": {
    "slideshow": {
     "slide_type": "subslide"
    }
   },
   "source": [
    "### Also massive data sumaries!"
   ]
  },
  {
   "cell_type": "code",
   "execution_count": 21,
   "metadata": {
    "collapsed": true,
    "slideshow": {
     "slide_type": "-"
    }
   },
   "outputs": [],
   "source": [
    "from datetime import timedelta\n",
    "\n",
    "class YouTubeVideo(object):\n",
    "    def __init__(self, id, width=400, height=300, start=timedelta()):\n",
    "        self.id = id\n",
    "        self.width = width\n",
    "        self.height = height\n",
    "        self.start = start.total_seconds()\n",
    "\n",
    "    def _repr_html_(self):\n",
    "        return \"\"\"\n",
    "                <iframe width=\"%i\" height=\"%i\"\n",
    "                    src=\"http://www.youtube.com/embed/%s?start=%i\"\n",
    "                    frameborder=\"0\" allowfullscreen style='margin: auto;'>\n",
    "                </iframe>\n",
    "               \"\"\" % (self.width, self.height, self.id, self.start)"
   ]
  },
  {
   "cell_type": "code",
   "execution_count": 22,
   "metadata": {
    "collapsed": false,
    "slideshow": {
     "slide_type": "subslide"
    }
   },
   "outputs": [
    {
     "data": {
      "text/html": [
       "\n",
       "                <iframe width=\"800\" height=\"450\"\n",
       "                    src=\"http://www.youtube.com/embed/_DnDeBa0KFc?start=0\"\n",
       "                    frameborder=\"0\" allowfullscreen style='margin: auto;'>\n",
       "                </iframe>\n",
       "               "
      ],
      "text/plain": [
       "<__main__.YouTubeVideo at 0x112d2dad0>"
      ]
     },
     "execution_count": 22,
     "metadata": {},
     "output_type": "execute_result"
    }
   ],
   "source": [
    "YouTubeVideo(\"_DnDeBa0KFc\", width=800, height=450, start=timedelta(hours=0, minutes=0, seconds=0))"
   ]
  },
  {
   "cell_type": "markdown",
   "metadata": {
    "collapsed": true,
    "slideshow": {
     "slide_type": "slide"
    }
   },
   "source": [
    "# Questions?"
   ]
  }
 ],
 "metadata": {
  "celltoolbar": "Slideshow",
  "kernelspec": {
   "display_name": "Python 2",
   "language": "python",
   "name": "python2"
  },
  "language_info": {
   "codemirror_mode": {
    "name": "ipython",
    "version": 2
   },
   "file_extension": ".py",
   "mimetype": "text/x-python",
   "name": "python",
   "nbconvert_exporter": "python",
   "pygments_lexer": "ipython2",
   "version": "2.7.10"
  }
 },
 "nbformat": 4,
 "nbformat_minor": 0
}
